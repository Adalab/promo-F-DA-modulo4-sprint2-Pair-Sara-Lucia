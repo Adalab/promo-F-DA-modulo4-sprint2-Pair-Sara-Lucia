{
 "cells": [
  {
   "cell_type": "code",
   "execution_count": 1,
   "metadata": {},
   "outputs": [],
   "source": [
    "import pandas as pd"
   ]
  },
  {
   "cell_type": "code",
   "execution_count": 2,
   "metadata": {},
   "outputs": [],
   "source": [
    "df= pd.read_csv(\"googleplaystore.csv\")"
   ]
  },
  {
   "cell_type": "code",
   "execution_count": 3,
   "metadata": {},
   "outputs": [
    {
     "data": {
      "text/html": [
       "<div>\n",
       "<style scoped>\n",
       "    .dataframe tbody tr th:only-of-type {\n",
       "        vertical-align: middle;\n",
       "    }\n",
       "\n",
       "    .dataframe tbody tr th {\n",
       "        vertical-align: top;\n",
       "    }\n",
       "\n",
       "    .dataframe thead th {\n",
       "        text-align: right;\n",
       "    }\n",
       "</style>\n",
       "<table border=\"1\" class=\"dataframe\">\n",
       "  <thead>\n",
       "    <tr style=\"text-align: right;\">\n",
       "      <th></th>\n",
       "      <th>App</th>\n",
       "      <th>Category</th>\n",
       "      <th>Rating</th>\n",
       "      <th>Reviews</th>\n",
       "      <th>Size</th>\n",
       "      <th>Installs</th>\n",
       "      <th>Type</th>\n",
       "      <th>Price</th>\n",
       "      <th>Content Rating</th>\n",
       "      <th>Genres</th>\n",
       "      <th>Last Updated</th>\n",
       "      <th>Current Ver</th>\n",
       "      <th>Android Ver</th>\n",
       "    </tr>\n",
       "  </thead>\n",
       "  <tbody>\n",
       "    <tr>\n",
       "      <th>0</th>\n",
       "      <td>Photo Editor &amp; Candy Camera &amp; Grid &amp; ScrapBook</td>\n",
       "      <td>ART_AND_DESIGN</td>\n",
       "      <td>4.1</td>\n",
       "      <td>159</td>\n",
       "      <td>19M</td>\n",
       "      <td>10,000+</td>\n",
       "      <td>Free</td>\n",
       "      <td>0</td>\n",
       "      <td>Everyone</td>\n",
       "      <td>Art &amp; Design</td>\n",
       "      <td>January 7, 2018</td>\n",
       "      <td>1.0.0</td>\n",
       "      <td>4.0.3 and up</td>\n",
       "    </tr>\n",
       "    <tr>\n",
       "      <th>1</th>\n",
       "      <td>Coloring book moana</td>\n",
       "      <td>ART_AND_DESIGN</td>\n",
       "      <td>3.9</td>\n",
       "      <td>967</td>\n",
       "      <td>14M</td>\n",
       "      <td>500,000+</td>\n",
       "      <td>Free</td>\n",
       "      <td>0</td>\n",
       "      <td>Everyone</td>\n",
       "      <td>Art &amp; Design;Pretend Play</td>\n",
       "      <td>January 15, 2018</td>\n",
       "      <td>2.0.0</td>\n",
       "      <td>4.0.3 and up</td>\n",
       "    </tr>\n",
       "    <tr>\n",
       "      <th>2</th>\n",
       "      <td>U Launcher Lite – FREE Live Cool Themes, Hide ...</td>\n",
       "      <td>ART_AND_DESIGN</td>\n",
       "      <td>4.7</td>\n",
       "      <td>87510</td>\n",
       "      <td>8.7M</td>\n",
       "      <td>5,000,000+</td>\n",
       "      <td>Free</td>\n",
       "      <td>0</td>\n",
       "      <td>Everyone</td>\n",
       "      <td>Art &amp; Design</td>\n",
       "      <td>August 1, 2018</td>\n",
       "      <td>1.2.4</td>\n",
       "      <td>4.0.3 and up</td>\n",
       "    </tr>\n",
       "    <tr>\n",
       "      <th>3</th>\n",
       "      <td>Sketch - Draw &amp; Paint</td>\n",
       "      <td>ART_AND_DESIGN</td>\n",
       "      <td>4.5</td>\n",
       "      <td>215644</td>\n",
       "      <td>25M</td>\n",
       "      <td>50,000,000+</td>\n",
       "      <td>Free</td>\n",
       "      <td>0</td>\n",
       "      <td>Teen</td>\n",
       "      <td>Art &amp; Design</td>\n",
       "      <td>June 8, 2018</td>\n",
       "      <td>Varies with device</td>\n",
       "      <td>4.2 and up</td>\n",
       "    </tr>\n",
       "    <tr>\n",
       "      <th>4</th>\n",
       "      <td>Pixel Draw - Number Art Coloring Book</td>\n",
       "      <td>ART_AND_DESIGN</td>\n",
       "      <td>4.3</td>\n",
       "      <td>967</td>\n",
       "      <td>2.8M</td>\n",
       "      <td>100,000+</td>\n",
       "      <td>Free</td>\n",
       "      <td>0</td>\n",
       "      <td>Everyone</td>\n",
       "      <td>Art &amp; Design;Creativity</td>\n",
       "      <td>June 20, 2018</td>\n",
       "      <td>1.1</td>\n",
       "      <td>4.4 and up</td>\n",
       "    </tr>\n",
       "    <tr>\n",
       "      <th>...</th>\n",
       "      <td>...</td>\n",
       "      <td>...</td>\n",
       "      <td>...</td>\n",
       "      <td>...</td>\n",
       "      <td>...</td>\n",
       "      <td>...</td>\n",
       "      <td>...</td>\n",
       "      <td>...</td>\n",
       "      <td>...</td>\n",
       "      <td>...</td>\n",
       "      <td>...</td>\n",
       "      <td>...</td>\n",
       "      <td>...</td>\n",
       "    </tr>\n",
       "    <tr>\n",
       "      <th>10836</th>\n",
       "      <td>Sya9a Maroc - FR</td>\n",
       "      <td>FAMILY</td>\n",
       "      <td>4.5</td>\n",
       "      <td>38</td>\n",
       "      <td>53M</td>\n",
       "      <td>5,000+</td>\n",
       "      <td>Free</td>\n",
       "      <td>0</td>\n",
       "      <td>Everyone</td>\n",
       "      <td>Education</td>\n",
       "      <td>July 25, 2017</td>\n",
       "      <td>1.48</td>\n",
       "      <td>4.1 and up</td>\n",
       "    </tr>\n",
       "    <tr>\n",
       "      <th>10837</th>\n",
       "      <td>Fr. Mike Schmitz Audio Teachings</td>\n",
       "      <td>FAMILY</td>\n",
       "      <td>5.0</td>\n",
       "      <td>4</td>\n",
       "      <td>3.6M</td>\n",
       "      <td>100+</td>\n",
       "      <td>Free</td>\n",
       "      <td>0</td>\n",
       "      <td>Everyone</td>\n",
       "      <td>Education</td>\n",
       "      <td>July 6, 2018</td>\n",
       "      <td>1.0</td>\n",
       "      <td>4.1 and up</td>\n",
       "    </tr>\n",
       "    <tr>\n",
       "      <th>10838</th>\n",
       "      <td>Parkinson Exercices FR</td>\n",
       "      <td>MEDICAL</td>\n",
       "      <td>NaN</td>\n",
       "      <td>3</td>\n",
       "      <td>9.5M</td>\n",
       "      <td>1,000+</td>\n",
       "      <td>Free</td>\n",
       "      <td>0</td>\n",
       "      <td>Everyone</td>\n",
       "      <td>Medical</td>\n",
       "      <td>January 20, 2017</td>\n",
       "      <td>1.0</td>\n",
       "      <td>2.2 and up</td>\n",
       "    </tr>\n",
       "    <tr>\n",
       "      <th>10839</th>\n",
       "      <td>The SCP Foundation DB fr nn5n</td>\n",
       "      <td>BOOKS_AND_REFERENCE</td>\n",
       "      <td>4.5</td>\n",
       "      <td>114</td>\n",
       "      <td>Varies with device</td>\n",
       "      <td>1,000+</td>\n",
       "      <td>Free</td>\n",
       "      <td>0</td>\n",
       "      <td>Mature 17+</td>\n",
       "      <td>Books &amp; Reference</td>\n",
       "      <td>January 19, 2015</td>\n",
       "      <td>Varies with device</td>\n",
       "      <td>Varies with device</td>\n",
       "    </tr>\n",
       "    <tr>\n",
       "      <th>10840</th>\n",
       "      <td>iHoroscope - 2018 Daily Horoscope &amp; Astrology</td>\n",
       "      <td>LIFESTYLE</td>\n",
       "      <td>4.5</td>\n",
       "      <td>398307</td>\n",
       "      <td>19M</td>\n",
       "      <td>10,000,000+</td>\n",
       "      <td>Free</td>\n",
       "      <td>0</td>\n",
       "      <td>Everyone</td>\n",
       "      <td>Lifestyle</td>\n",
       "      <td>July 25, 2018</td>\n",
       "      <td>Varies with device</td>\n",
       "      <td>Varies with device</td>\n",
       "    </tr>\n",
       "  </tbody>\n",
       "</table>\n",
       "<p>10841 rows × 13 columns</p>\n",
       "</div>"
      ],
      "text/plain": [
       "                                                     App             Category  \\\n",
       "0         Photo Editor & Candy Camera & Grid & ScrapBook       ART_AND_DESIGN   \n",
       "1                                    Coloring book moana       ART_AND_DESIGN   \n",
       "2      U Launcher Lite – FREE Live Cool Themes, Hide ...       ART_AND_DESIGN   \n",
       "3                                  Sketch - Draw & Paint       ART_AND_DESIGN   \n",
       "4                  Pixel Draw - Number Art Coloring Book       ART_AND_DESIGN   \n",
       "...                                                  ...                  ...   \n",
       "10836                                   Sya9a Maroc - FR               FAMILY   \n",
       "10837                   Fr. Mike Schmitz Audio Teachings               FAMILY   \n",
       "10838                             Parkinson Exercices FR              MEDICAL   \n",
       "10839                      The SCP Foundation DB fr nn5n  BOOKS_AND_REFERENCE   \n",
       "10840      iHoroscope - 2018 Daily Horoscope & Astrology            LIFESTYLE   \n",
       "\n",
       "       Rating Reviews                Size     Installs  Type Price  \\\n",
       "0         4.1     159                 19M      10,000+  Free     0   \n",
       "1         3.9     967                 14M     500,000+  Free     0   \n",
       "2         4.7   87510                8.7M   5,000,000+  Free     0   \n",
       "3         4.5  215644                 25M  50,000,000+  Free     0   \n",
       "4         4.3     967                2.8M     100,000+  Free     0   \n",
       "...       ...     ...                 ...          ...   ...   ...   \n",
       "10836     4.5      38                 53M       5,000+  Free     0   \n",
       "10837     5.0       4                3.6M         100+  Free     0   \n",
       "10838     NaN       3                9.5M       1,000+  Free     0   \n",
       "10839     4.5     114  Varies with device       1,000+  Free     0   \n",
       "10840     4.5  398307                 19M  10,000,000+  Free     0   \n",
       "\n",
       "      Content Rating                     Genres      Last Updated  \\\n",
       "0           Everyone               Art & Design   January 7, 2018   \n",
       "1           Everyone  Art & Design;Pretend Play  January 15, 2018   \n",
       "2           Everyone               Art & Design    August 1, 2018   \n",
       "3               Teen               Art & Design      June 8, 2018   \n",
       "4           Everyone    Art & Design;Creativity     June 20, 2018   \n",
       "...              ...                        ...               ...   \n",
       "10836       Everyone                  Education     July 25, 2017   \n",
       "10837       Everyone                  Education      July 6, 2018   \n",
       "10838       Everyone                    Medical  January 20, 2017   \n",
       "10839     Mature 17+          Books & Reference  January 19, 2015   \n",
       "10840       Everyone                  Lifestyle     July 25, 2018   \n",
       "\n",
       "              Current Ver         Android Ver  \n",
       "0                   1.0.0        4.0.3 and up  \n",
       "1                   2.0.0        4.0.3 and up  \n",
       "2                   1.2.4        4.0.3 and up  \n",
       "3      Varies with device          4.2 and up  \n",
       "4                     1.1          4.4 and up  \n",
       "...                   ...                 ...  \n",
       "10836                1.48          4.1 and up  \n",
       "10837                 1.0          4.1 and up  \n",
       "10838                 1.0          2.2 and up  \n",
       "10839  Varies with device  Varies with device  \n",
       "10840  Varies with device  Varies with device  \n",
       "\n",
       "[10841 rows x 13 columns]"
      ]
     },
     "execution_count": 3,
     "metadata": {},
     "output_type": "execute_result"
    }
   ],
   "source": [
    "df"
   ]
  },
  {
   "cell_type": "code",
   "execution_count": 4,
   "metadata": {},
   "outputs": [
    {
     "data": {
      "text/plain": [
       "483"
      ]
     },
     "execution_count": 4,
     "metadata": {},
     "output_type": "execute_result"
    }
   ],
   "source": [
    "df.duplicated().sum()"
   ]
  },
  {
   "cell_type": "code",
   "execution_count": 5,
   "metadata": {},
   "outputs": [],
   "source": [
    "df.drop_duplicates(inplace=True)"
   ]
  },
  {
   "cell_type": "code",
   "execution_count": 6,
   "metadata": {},
   "outputs": [
    {
     "data": {
      "text/plain": [
       "0"
      ]
     },
     "execution_count": 6,
     "metadata": {},
     "output_type": "execute_result"
    }
   ],
   "source": [
    "df.duplicated().sum()"
   ]
  },
  {
   "cell_type": "code",
   "execution_count": 7,
   "metadata": {},
   "outputs": [
    {
     "name": "stdout",
     "output_type": "stream",
     "text": [
      "<class 'pandas.core.frame.DataFrame'>\n",
      "Int64Index: 10358 entries, 0 to 10840\n",
      "Data columns (total 13 columns):\n",
      " #   Column          Non-Null Count  Dtype  \n",
      "---  ------          --------------  -----  \n",
      " 0   App             10358 non-null  object \n",
      " 1   Category        10358 non-null  object \n",
      " 2   Rating          8893 non-null   float64\n",
      " 3   Reviews         10358 non-null  object \n",
      " 4   Size            10358 non-null  object \n",
      " 5   Installs        10358 non-null  object \n",
      " 6   Type            10357 non-null  object \n",
      " 7   Price           10358 non-null  object \n",
      " 8   Content Rating  10357 non-null  object \n",
      " 9   Genres          10358 non-null  object \n",
      " 10  Last Updated    10358 non-null  object \n",
      " 11  Current Ver     10350 non-null  object \n",
      " 12  Android Ver     10355 non-null  object \n",
      "dtypes: float64(1), object(12)\n",
      "memory usage: 1.1+ MB\n"
     ]
    }
   ],
   "source": [
    "df.info()"
   ]
  },
  {
   "cell_type": "code",
   "execution_count": 8,
   "metadata": {},
   "outputs": [
    {
     "name": "stdout",
     "output_type": "stream",
     "text": [
      "App\n"
     ]
    },
    {
     "data": {
      "text/plain": [
       "ROBLOX                                           0.086889\n",
       "8 Ball Pool                                      0.067581\n",
       "Bubble Shooter                                   0.057926\n",
       "Helix Jump                                       0.057926\n",
       "Zombie Catchers                                  0.057926\n",
       "                                                   ...   \n",
       "Theme Android P Black design for LG V30          0.009654\n",
       "Popsicle Launcher for Android P 9.0 launcher     0.009654\n",
       "PixelLab - Text on pictures                      0.009654\n",
       "P Launcher for Android™ 9.0                      0.009654\n",
       "iHoroscope - 2018 Daily Horoscope & Astrology    0.009654\n",
       "Name: App, Length: 9660, dtype: float64"
      ]
     },
     "metadata": {},
     "output_type": "display_data"
    },
    {
     "name": "stdout",
     "output_type": "stream",
     "text": [
      "Category\n"
     ]
    },
    {
     "data": {
      "text/plain": [
       "FAMILY                 18.758448\n",
       "GAME                   10.822553\n",
       "TOOLS                   8.138637\n",
       "BUSINESS                4.122417\n",
       "MEDICAL                 3.938984\n",
       "PRODUCTIVITY            3.929330\n",
       "PERSONALIZATION         3.745897\n",
       "LIFESTYLE               3.601081\n",
       "COMMUNICATION           3.533501\n",
       "FINANCE                 3.475574\n",
       "SPORTS                  3.388685\n",
       "PHOTOGRAPHY             3.108708\n",
       "HEALTH_AND_FITNESS      2.954238\n",
       "SOCIAL                  2.703225\n",
       "NEWS_AND_MAGAZINES      2.548755\n",
       "TRAVEL_AND_LOCAL        2.288087\n",
       "BOOKS_AND_REFERENCE     2.220506\n",
       "SHOPPING                2.162580\n",
       "DATING                  1.892257\n",
       "VIDEO_PLAYERS           1.689515\n",
       "MAPS_AND_NAVIGATION     1.322649\n",
       "EDUCATION               1.255069\n",
       "FOOD_AND_DRINK          1.197142\n",
       "ENTERTAINMENT           1.071635\n",
       "AUTO_AND_VEHICLES       0.820622\n",
       "LIBRARIES_AND_DEMO      0.820622\n",
       "WEATHER                 0.791659\n",
       "HOUSE_AND_HOME          0.772350\n",
       "ART_AND_DESIGN          0.627534\n",
       "EVENTS                  0.617880\n",
       "PARENTING               0.579262\n",
       "COMICS                  0.579262\n",
       "BEAUTY                  0.511682\n",
       "1.9                     0.009654\n",
       "Name: Category, dtype: float64"
      ]
     },
     "metadata": {},
     "output_type": "display_data"
    },
    {
     "name": "stdout",
     "output_type": "stream",
     "text": [
      "Rating\n"
     ]
    },
    {
     "data": {
      "text/plain": [
       "4.4     9.963313\n",
       "4.3     9.808843\n",
       "4.5     9.432323\n",
       "4.2     8.573084\n",
       "4.6     7.414559\n",
       "4.1     6.342923\n",
       "4.0     5.203707\n",
       "4.7     4.672717\n",
       "3.9     3.591427\n",
       "3.8     2.828731\n",
       "5.0     2.616335\n",
       "3.7     2.230160\n",
       "4.8     2.201197\n",
       "3.6     1.631589\n",
       "3.5     1.515737\n",
       "3.4     1.226105\n",
       "3.3     0.975092\n",
       "4.9     0.839930\n",
       "3.0     0.791659\n",
       "3.1     0.666152\n",
       "3.2     0.617880\n",
       "2.9     0.434447\n",
       "2.8     0.386175\n",
       "2.6     0.231705\n",
       "2.7     0.222051\n",
       "2.5     0.193087\n",
       "2.3     0.193087\n",
       "2.4     0.183433\n",
       "1.0     0.154470\n",
       "2.2     0.135161\n",
       "1.9     0.115852\n",
       "2.0     0.115852\n",
       "1.7     0.077235\n",
       "1.8     0.077235\n",
       "2.1     0.077235\n",
       "1.6     0.038617\n",
       "1.4     0.028963\n",
       "1.5     0.028963\n",
       "1.2     0.009654\n",
       "19.0    0.009654\n",
       "Name: Rating, dtype: float64"
      ]
     },
     "metadata": {},
     "output_type": "display_data"
    },
    {
     "name": "stdout",
     "output_type": "stream",
     "text": [
      "Reviews\n"
     ]
    },
    {
     "data": {
      "text/plain": [
       "0          5.725043\n",
       "1          2.625990\n",
       "2          2.056382\n",
       "3          1.641243\n",
       "4          1.322649\n",
       "             ...   \n",
       "527247     0.009654\n",
       "240475     0.009654\n",
       "5282558    0.009654\n",
       "654418     0.009654\n",
       "398307     0.009654\n",
       "Name: Reviews, Length: 6002, dtype: float64"
      ]
     },
     "metadata": {},
     "output_type": "display_data"
    },
    {
     "name": "stdout",
     "output_type": "stream",
     "text": [
      "Size\n"
     ]
    },
    {
     "data": {
      "text/plain": [
       "Varies with device    14.732574\n",
       "11M                    1.815022\n",
       "12M                    1.795713\n",
       "13M                    1.795713\n",
       "14M                    1.757096\n",
       "                        ...    \n",
       "430k                   0.009654\n",
       "429k                   0.009654\n",
       "200k                   0.009654\n",
       "460k                   0.009654\n",
       "619k                   0.009654\n",
       "Name: Size, Length: 462, dtype: float64"
      ]
     },
     "metadata": {},
     "output_type": "display_data"
    },
    {
     "name": "stdout",
     "output_type": "stream",
     "text": [
      "Installs\n"
     ]
    },
    {
     "data": {
      "text/plain": [
       "1,000,000+        14.365708\n",
       "10,000,000+       10.928751\n",
       "100,000+          10.899788\n",
       "10,000+            9.972968\n",
       "1,000+             8.592392\n",
       "100+               6.854605\n",
       "5,000,000+         6.593937\n",
       "500,000+           4.991311\n",
       "50,000+            4.576173\n",
       "5,000+             4.527901\n",
       "10+                3.716934\n",
       "100,000,000+       3.562464\n",
       "500+               3.166634\n",
       "50,000,000+        2.625990\n",
       "50+                1.969492\n",
       "5+                 0.791659\n",
       "1+                 0.646843\n",
       "500,000,000+       0.588917\n",
       "1,000,000,000+     0.473064\n",
       "0+                 0.135161\n",
       "0                  0.009654\n",
       "Free               0.009654\n",
       "Name: Installs, dtype: float64"
      ]
     },
     "metadata": {},
     "output_type": "display_data"
    },
    {
     "name": "stdout",
     "output_type": "stream",
     "text": [
      "Type\n"
     ]
    },
    {
     "data": {
      "text/plain": [
       "Free    92.595096\n",
       "Paid     7.385596\n",
       "0        0.009654\n",
       "Name: Type, dtype: float64"
      ]
     },
     "metadata": {},
     "output_type": "display_data"
    },
    {
     "name": "stdout",
     "output_type": "stream",
     "text": [
      "Price\n"
     ]
    },
    {
     "data": {
      "text/plain": [
       "0          92.604750\n",
       "$0.99       1.409539\n",
       "$2.99       1.206797\n",
       "$1.99       0.704769\n",
       "$4.99       0.675806\n",
       "             ...    \n",
       "$389.99     0.009654\n",
       "$19.90      0.009654\n",
       "$1.75       0.009654\n",
       "$14.00      0.009654\n",
       "$1.04       0.009654\n",
       "Name: Price, Length: 93, dtype: float64"
      ]
     },
     "metadata": {},
     "output_type": "display_data"
    },
    {
     "name": "stdout",
     "output_type": "stream",
     "text": [
      "Content Rating\n"
     ]
    },
    {
     "data": {
      "text/plain": [
       "Everyone           80.922958\n",
       "Teen               11.063912\n",
       "Mature 17+          4.315505\n",
       "Everyone 10+        3.639699\n",
       "Adults only 18+     0.028963\n",
       "Unrated             0.019309\n",
       "Name: Content Rating, dtype: float64"
      ]
     },
     "metadata": {},
     "output_type": "display_data"
    },
    {
     "name": "stdout",
     "output_type": "stream",
     "text": [
      "Genres\n"
     ]
    },
    {
     "data": {
      "text/plain": [
       "Tools                     8.128982\n",
       "Entertainment             5.676772\n",
       "Education                 5.087855\n",
       "Business                  4.122417\n",
       "Medical                   3.938984\n",
       "                            ...   \n",
       "Arcade;Pretend Play       0.009654\n",
       "Card;Brain Games          0.009654\n",
       "Lifestyle;Pretend Play    0.009654\n",
       "Comics;Creativity         0.009654\n",
       "Strategy;Creativity       0.009654\n",
       "Name: Genres, Length: 120, dtype: float64"
      ]
     },
     "metadata": {},
     "output_type": "display_data"
    },
    {
     "name": "stdout",
     "output_type": "stream",
     "text": [
      "Last Updated\n"
     ]
    },
    {
     "data": {
      "text/plain": [
       "August 3, 2018        2.877003\n",
       "August 2, 2018        2.606681\n",
       "July 31, 2018         2.597026\n",
       "August 1, 2018        2.481174\n",
       "July 30, 2018         1.882603\n",
       "                        ...   \n",
       "January 16, 2016      0.009654\n",
       "September 13, 2015    0.009654\n",
       "October 7, 2015       0.009654\n",
       "January 12, 2016      0.009654\n",
       "March 23, 2014        0.009654\n",
       "Name: Last Updated, Length: 1378, dtype: float64"
      ]
     },
     "metadata": {},
     "output_type": "display_data"
    },
    {
     "name": "stdout",
     "output_type": "stream",
     "text": [
      "Current Ver\n"
     ]
    },
    {
     "data": {
      "text/plain": [
       "Varies with device    12.569994\n",
       "1.0                    7.742807\n",
       "1.1                    2.510137\n",
       "1.2                    1.708824\n",
       "2.0                    1.438502\n",
       "                        ...    \n",
       "18.201.01              0.009654\n",
       "4.11.0.611033          0.009654\n",
       "8.0.6                  0.009654\n",
       "9.1                    0.009654\n",
       "2.0.148.0              0.009654\n",
       "Name: Current Ver, Length: 2832, dtype: float64"
      ]
     },
     "metadata": {},
     "output_type": "display_data"
    },
    {
     "name": "stdout",
     "output_type": "stream",
     "text": [
      "Android Ver\n"
     ]
    },
    {
     "data": {
      "text/plain": [
       "4.1 and up            22.967754\n",
       "4.0.3 and up          14.008496\n",
       "4.0 and up            12.907897\n",
       "Varies with device    11.787990\n",
       "4.4 and up             8.631010\n",
       "2.3 and up             6.207762\n",
       "5.0 and up             5.271288\n",
       "4.2 and up             3.736243\n",
       "2.3.3 and up           2.693570\n",
       "2.2 and up             2.307395\n",
       "3.0 and up             2.288087\n",
       "4.3 and up             2.268778\n",
       "2.1 and up             1.284032\n",
       "1.6 and up             1.119907\n",
       "6.0 and up             0.559954\n",
       "7.0 and up             0.405484\n",
       "3.2 and up             0.347557\n",
       "2.0 and up             0.308940\n",
       "5.1 and up             0.212396\n",
       "1.5 and up             0.193087\n",
       "4.4W and up            0.106198\n",
       "3.1 and up             0.096544\n",
       "2.0.1 and up           0.067581\n",
       "8.0 and up             0.057926\n",
       "7.1 and up             0.028963\n",
       "4.0.3 - 7.1.1          0.019309\n",
       "5.0 - 8.0              0.019309\n",
       "1.0 and up             0.019309\n",
       "7.0 - 7.1.1            0.009654\n",
       "4.1 - 7.1.1            0.009654\n",
       "5.0 - 6.0              0.009654\n",
       "2.2 - 7.1.1            0.009654\n",
       "5.0 - 7.1.1            0.009654\n",
       "Name: Android Ver, dtype: float64"
      ]
     },
     "metadata": {},
     "output_type": "display_data"
    }
   ],
   "source": [
    "for column in df.columns:\n",
    "    print(column)\n",
    "    display(df[column].value_counts()/df.shape[0]*100)"
   ]
  },
  {
   "cell_type": "code",
   "execution_count": 13,
   "metadata": {},
   "outputs": [
    {
     "data": {
      "text/html": [
       "<div>\n",
       "<style scoped>\n",
       "    .dataframe tbody tr th:only-of-type {\n",
       "        vertical-align: middle;\n",
       "    }\n",
       "\n",
       "    .dataframe tbody tr th {\n",
       "        vertical-align: top;\n",
       "    }\n",
       "\n",
       "    .dataframe thead th {\n",
       "        text-align: right;\n",
       "    }\n",
       "</style>\n",
       "<table border=\"1\" class=\"dataframe\">\n",
       "  <thead>\n",
       "    <tr style=\"text-align: right;\">\n",
       "      <th></th>\n",
       "      <th>App</th>\n",
       "      <th>Category</th>\n",
       "      <th>Rating</th>\n",
       "      <th>Reviews</th>\n",
       "      <th>Size</th>\n",
       "      <th>Installs</th>\n",
       "      <th>Type</th>\n",
       "      <th>Price</th>\n",
       "      <th>Content Rating</th>\n",
       "      <th>Genres</th>\n",
       "      <th>Last Updated</th>\n",
       "      <th>Current Ver</th>\n",
       "      <th>Android Ver</th>\n",
       "    </tr>\n",
       "  </thead>\n",
       "  <tbody>\n",
       "  </tbody>\n",
       "</table>\n",
       "</div>"
      ],
      "text/plain": [
       "Empty DataFrame\n",
       "Columns: [App, Category, Rating, Reviews, Size, Installs, Type, Price, Content Rating, Genres, Last Updated, Current Ver, Android Ver]\n",
       "Index: []"
      ]
     },
     "execution_count": 13,
     "metadata": {},
     "output_type": "execute_result"
    }
   ],
   "source": [
    "df[df[\"Type\"]==\"0\"]"
   ]
  },
  {
   "cell_type": "code",
   "execution_count": null,
   "metadata": {},
   "outputs": [],
   "source": [
    "df.drop(10472, axis=0, inplace=True)"
   ]
  },
  {
   "cell_type": "code",
   "execution_count": 15,
   "metadata": {},
   "outputs": [],
   "source": [
    "df.to_csv(\"df_aplicaciones.csv\")"
   ]
  }
 ],
 "metadata": {
  "kernelspec": {
   "display_name": "base",
   "language": "python",
   "name": "python3"
  },
  "language_info": {
   "codemirror_mode": {
    "name": "ipython",
    "version": 3
   },
   "file_extension": ".py",
   "mimetype": "text/x-python",
   "name": "python",
   "nbconvert_exporter": "python",
   "pygments_lexer": "ipython3",
   "version": "3.9.7"
  }
 },
 "nbformat": 4,
 "nbformat_minor": 2
}
